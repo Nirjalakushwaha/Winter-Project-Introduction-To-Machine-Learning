{
 "cells": [
  {
   "cell_type": "markdown",
   "id": "3eee901b-0810-4fb6-a96f-4c393f934117",
   "metadata": {},
   "source": [
    "<center><h1>Assignment 2</h1></center>"
   ]
  },
  {
   "cell_type": "code",
   "execution_count": 1,
   "id": "aaab99fb-00af-43e0-8860-e1d0bcfe5f35",
   "metadata": {},
   "outputs": [],
   "source": [
    "import numpy as np\n",
    "import pandas as pd\n",
    "import matplotlib as mp\n",
    "import matplotlib.pyplot as plt\n",
    "import seaborn as sns\n",
    "import warnings\n",
    "warnings.filterwarnings('ignore')\n"
   ]
  },
  {
   "cell_type": "markdown",
   "id": "94e170c5-8195-492e-b523-a3e0953ba81c",
   "metadata": {},
   "source": [
    "### (i) Perform data pre-processing steps on the dataset. Handle missing values (if any), explore the correlation between variables, and identify any potential outliers."
   ]
  },
  {
   "cell_type": "code",
   "execution_count": 2,
   "id": "302ea401-2498-4c52-b6ca-d457341e5731",
   "metadata": {},
   "outputs": [
    {
     "data": {
      "text/html": [
       "<div>\n",
       "<style scoped>\n",
       "    .dataframe tbody tr th:only-of-type {\n",
       "        vertical-align: middle;\n",
       "    }\n",
       "\n",
       "    .dataframe tbody tr th {\n",
       "        vertical-align: top;\n",
       "    }\n",
       "\n",
       "    .dataframe thead th {\n",
       "        text-align: right;\n",
       "    }\n",
       "</style>\n",
       "<table border=\"1\" class=\"dataframe\">\n",
       "  <thead>\n",
       "    <tr style=\"text-align: right;\">\n",
       "      <th></th>\n",
       "      <th>X1</th>\n",
       "      <th>X2</th>\n",
       "      <th>X3</th>\n",
       "      <th>X4</th>\n",
       "      <th>X5</th>\n",
       "      <th>X6</th>\n",
       "      <th>X7</th>\n",
       "      <th>X8</th>\n",
       "      <th>Y1</th>\n",
       "      <th>Y2</th>\n",
       "    </tr>\n",
       "  </thead>\n",
       "  <tbody>\n",
       "    <tr>\n",
       "      <th>0</th>\n",
       "      <td>0.98</td>\n",
       "      <td>514.5</td>\n",
       "      <td>294.0</td>\n",
       "      <td>110.25</td>\n",
       "      <td>7.0</td>\n",
       "      <td>2</td>\n",
       "      <td>0.0</td>\n",
       "      <td>0</td>\n",
       "      <td>15.55</td>\n",
       "      <td>21.33</td>\n",
       "    </tr>\n",
       "    <tr>\n",
       "      <th>1</th>\n",
       "      <td>0.98</td>\n",
       "      <td>514.5</td>\n",
       "      <td>294.0</td>\n",
       "      <td>110.25</td>\n",
       "      <td>7.0</td>\n",
       "      <td>3</td>\n",
       "      <td>0.0</td>\n",
       "      <td>0</td>\n",
       "      <td>15.55</td>\n",
       "      <td>21.33</td>\n",
       "    </tr>\n",
       "    <tr>\n",
       "      <th>2</th>\n",
       "      <td>0.98</td>\n",
       "      <td>514.5</td>\n",
       "      <td>294.0</td>\n",
       "      <td>110.25</td>\n",
       "      <td>7.0</td>\n",
       "      <td>4</td>\n",
       "      <td>0.0</td>\n",
       "      <td>0</td>\n",
       "      <td>15.55</td>\n",
       "      <td>21.33</td>\n",
       "    </tr>\n",
       "    <tr>\n",
       "      <th>3</th>\n",
       "      <td>0.98</td>\n",
       "      <td>514.5</td>\n",
       "      <td>294.0</td>\n",
       "      <td>110.25</td>\n",
       "      <td>7.0</td>\n",
       "      <td>5</td>\n",
       "      <td>0.0</td>\n",
       "      <td>0</td>\n",
       "      <td>15.55</td>\n",
       "      <td>21.33</td>\n",
       "    </tr>\n",
       "    <tr>\n",
       "      <th>4</th>\n",
       "      <td>0.90</td>\n",
       "      <td>563.5</td>\n",
       "      <td>318.5</td>\n",
       "      <td>122.50</td>\n",
       "      <td>7.0</td>\n",
       "      <td>2</td>\n",
       "      <td>0.0</td>\n",
       "      <td>0</td>\n",
       "      <td>20.84</td>\n",
       "      <td>28.28</td>\n",
       "    </tr>\n",
       "  </tbody>\n",
       "</table>\n",
       "</div>"
      ],
      "text/plain": [
       "     X1     X2     X3      X4   X5  X6   X7  X8     Y1     Y2\n",
       "0  0.98  514.5  294.0  110.25  7.0   2  0.0   0  15.55  21.33\n",
       "1  0.98  514.5  294.0  110.25  7.0   3  0.0   0  15.55  21.33\n",
       "2  0.98  514.5  294.0  110.25  7.0   4  0.0   0  15.55  21.33\n",
       "3  0.98  514.5  294.0  110.25  7.0   5  0.0   0  15.55  21.33\n",
       "4  0.90  563.5  318.5  122.50  7.0   2  0.0   0  20.84  28.28"
      ]
     },
     "execution_count": 2,
     "metadata": {},
     "output_type": "execute_result"
    }
   ],
   "source": [
    "data =pd.read_csv(\"ENB2012_data.csv\")\n",
    "\n",
    "df= pd.DataFrame(data)\n",
    "\n",
    "data.head()"
   ]
  },
  {
   "cell_type": "code",
   "execution_count": 3,
   "id": "86181a59-92fc-40ae-91d8-d3a82ea0a745",
   "metadata": {},
   "outputs": [
    {
     "name": "stdout",
     "output_type": "stream",
     "text": [
      "<class 'pandas.core.frame.DataFrame'>\n",
      "RangeIndex: 768 entries, 0 to 767\n",
      "Data columns (total 10 columns):\n",
      " #   Column  Non-Null Count  Dtype  \n",
      "---  ------  --------------  -----  \n",
      " 0   X1      768 non-null    float64\n",
      " 1   X2      768 non-null    float64\n",
      " 2   X3      768 non-null    float64\n",
      " 3   X4      768 non-null    float64\n",
      " 4   X5      768 non-null    float64\n",
      " 5   X6      768 non-null    int64  \n",
      " 6   X7      768 non-null    float64\n",
      " 7   X8      768 non-null    int64  \n",
      " 8   Y1      768 non-null    float64\n",
      " 9   Y2      768 non-null    float64\n",
      "dtypes: float64(8), int64(2)\n",
      "memory usage: 60.1 KB\n"
     ]
    }
   ],
   "source": [
    "data.info()"
   ]
  },
  {
   "cell_type": "code",
   "execution_count": 4,
   "id": "c161e25b-04ae-43c7-83d9-e9b0d64a0e26",
   "metadata": {},
   "outputs": [
    {
     "data": {
      "text/plain": [
       "X1    0\n",
       "X2    0\n",
       "X3    0\n",
       "X4    0\n",
       "X5    0\n",
       "X6    0\n",
       "X7    0\n",
       "X8    0\n",
       "Y1    0\n",
       "Y2    0\n",
       "dtype: int64"
      ]
     },
     "execution_count": 4,
     "metadata": {},
     "output_type": "execute_result"
    }
   ],
   "source": [
    "data.isna().sum()"
   ]
  },
  {
   "cell_type": "code",
   "execution_count": 5,
   "id": "7778b448-5449-4413-b4ab-e50ec48f317a",
   "metadata": {},
   "outputs": [
    {
     "data": {
      "text/plain": [
       "X1    0\n",
       "X2    0\n",
       "X3    0\n",
       "X4    0\n",
       "X5    0\n",
       "X6    0\n",
       "X7    0\n",
       "X8    0\n",
       "Y1    0\n",
       "Y2    0\n",
       "dtype: int64"
      ]
     },
     "execution_count": 5,
     "metadata": {},
     "output_type": "execute_result"
    }
   ],
   "source": [
    "data.isnull().sum()"
   ]
  },
  {
   "cell_type": "markdown",
   "id": "ec21eea0-8730-445c-906a-326f45743258",
   "metadata": {},
   "source": [
    "##### As we can see there are no missing values so no need to drop values"
   ]
  },
  {
   "cell_type": "markdown",
   "id": "ebf9ca73-0084-464e-9219-52d1cef8857d",
   "metadata": {},
   "source": [
    "#### Correlation"
   ]
  },
  {
   "cell_type": "code",
   "execution_count": 6,
   "id": "a819baf4-5c63-4d0a-93c7-e08d3cd38dc7",
   "metadata": {},
   "outputs": [
    {
     "name": "stdout",
     "output_type": "stream",
     "text": [
      "The Correlation plot is :\n",
      "\n"
     ]
    },
    {
     "data": {
      "text/html": [
       "<div>\n",
       "<style scoped>\n",
       "    .dataframe tbody tr th:only-of-type {\n",
       "        vertical-align: middle;\n",
       "    }\n",
       "\n",
       "    .dataframe tbody tr th {\n",
       "        vertical-align: top;\n",
       "    }\n",
       "\n",
       "    .dataframe thead th {\n",
       "        text-align: right;\n",
       "    }\n",
       "</style>\n",
       "<table border=\"1\" class=\"dataframe\">\n",
       "  <thead>\n",
       "    <tr style=\"text-align: right;\">\n",
       "      <th></th>\n",
       "      <th>X1</th>\n",
       "      <th>X2</th>\n",
       "      <th>X3</th>\n",
       "      <th>X4</th>\n",
       "      <th>X5</th>\n",
       "      <th>X6</th>\n",
       "      <th>X7</th>\n",
       "      <th>X8</th>\n",
       "      <th>Y1</th>\n",
       "      <th>Y2</th>\n",
       "    </tr>\n",
       "  </thead>\n",
       "  <tbody>\n",
       "    <tr>\n",
       "      <th>X1</th>\n",
       "      <td>1.000000e+00</td>\n",
       "      <td>-9.919015e-01</td>\n",
       "      <td>-2.037817e-01</td>\n",
       "      <td>-8.688234e-01</td>\n",
       "      <td>8.277473e-01</td>\n",
       "      <td>4.678592e-17</td>\n",
       "      <td>-2.960552e-15</td>\n",
       "      <td>-7.107006e-16</td>\n",
       "      <td>0.622272</td>\n",
       "      <td>0.634339</td>\n",
       "    </tr>\n",
       "    <tr>\n",
       "      <th>X2</th>\n",
       "      <td>-9.919015e-01</td>\n",
       "      <td>1.000000e+00</td>\n",
       "      <td>1.955016e-01</td>\n",
       "      <td>8.807195e-01</td>\n",
       "      <td>-8.581477e-01</td>\n",
       "      <td>-3.459372e-17</td>\n",
       "      <td>3.636925e-15</td>\n",
       "      <td>2.438409e-15</td>\n",
       "      <td>-0.658120</td>\n",
       "      <td>-0.672999</td>\n",
       "    </tr>\n",
       "    <tr>\n",
       "      <th>X3</th>\n",
       "      <td>-2.037817e-01</td>\n",
       "      <td>1.955016e-01</td>\n",
       "      <td>1.000000e+00</td>\n",
       "      <td>-2.923165e-01</td>\n",
       "      <td>2.809757e-01</td>\n",
       "      <td>-2.429499e-17</td>\n",
       "      <td>-8.567455e-17</td>\n",
       "      <td>2.067384e-16</td>\n",
       "      <td>0.455671</td>\n",
       "      <td>0.427117</td>\n",
       "    </tr>\n",
       "    <tr>\n",
       "      <th>X4</th>\n",
       "      <td>-8.688234e-01</td>\n",
       "      <td>8.807195e-01</td>\n",
       "      <td>-2.923165e-01</td>\n",
       "      <td>1.000000e+00</td>\n",
       "      <td>-9.725122e-01</td>\n",
       "      <td>-5.830058e-17</td>\n",
       "      <td>-1.759011e-15</td>\n",
       "      <td>-1.078071e-15</td>\n",
       "      <td>-0.861828</td>\n",
       "      <td>-0.862547</td>\n",
       "    </tr>\n",
       "    <tr>\n",
       "      <th>X5</th>\n",
       "      <td>8.277473e-01</td>\n",
       "      <td>-8.581477e-01</td>\n",
       "      <td>2.809757e-01</td>\n",
       "      <td>-9.725122e-01</td>\n",
       "      <td>1.000000e+00</td>\n",
       "      <td>4.492205e-17</td>\n",
       "      <td>1.489134e-17</td>\n",
       "      <td>-2.920613e-17</td>\n",
       "      <td>0.889431</td>\n",
       "      <td>0.895785</td>\n",
       "    </tr>\n",
       "    <tr>\n",
       "      <th>X6</th>\n",
       "      <td>4.678592e-17</td>\n",
       "      <td>-3.459372e-17</td>\n",
       "      <td>-2.429499e-17</td>\n",
       "      <td>-5.830058e-17</td>\n",
       "      <td>4.492205e-17</td>\n",
       "      <td>1.000000e+00</td>\n",
       "      <td>-9.406007e-16</td>\n",
       "      <td>-2.549352e-16</td>\n",
       "      <td>-0.002587</td>\n",
       "      <td>0.014290</td>\n",
       "    </tr>\n",
       "    <tr>\n",
       "      <th>X7</th>\n",
       "      <td>-2.960552e-15</td>\n",
       "      <td>3.636925e-15</td>\n",
       "      <td>-8.567455e-17</td>\n",
       "      <td>-1.759011e-15</td>\n",
       "      <td>1.489134e-17</td>\n",
       "      <td>-9.406007e-16</td>\n",
       "      <td>1.000000e+00</td>\n",
       "      <td>2.129642e-01</td>\n",
       "      <td>0.269841</td>\n",
       "      <td>0.207505</td>\n",
       "    </tr>\n",
       "    <tr>\n",
       "      <th>X8</th>\n",
       "      <td>-7.107006e-16</td>\n",
       "      <td>2.438409e-15</td>\n",
       "      <td>2.067384e-16</td>\n",
       "      <td>-1.078071e-15</td>\n",
       "      <td>-2.920613e-17</td>\n",
       "      <td>-2.549352e-16</td>\n",
       "      <td>2.129642e-01</td>\n",
       "      <td>1.000000e+00</td>\n",
       "      <td>0.087368</td>\n",
       "      <td>0.050525</td>\n",
       "    </tr>\n",
       "    <tr>\n",
       "      <th>Y1</th>\n",
       "      <td>6.222722e-01</td>\n",
       "      <td>-6.581202e-01</td>\n",
       "      <td>4.556712e-01</td>\n",
       "      <td>-8.618283e-01</td>\n",
       "      <td>8.894307e-01</td>\n",
       "      <td>-2.586534e-03</td>\n",
       "      <td>2.698410e-01</td>\n",
       "      <td>8.736759e-02</td>\n",
       "      <td>1.000000</td>\n",
       "      <td>0.975862</td>\n",
       "    </tr>\n",
       "    <tr>\n",
       "      <th>Y2</th>\n",
       "      <td>6.343391e-01</td>\n",
       "      <td>-6.729989e-01</td>\n",
       "      <td>4.271170e-01</td>\n",
       "      <td>-8.625466e-01</td>\n",
       "      <td>8.957852e-01</td>\n",
       "      <td>1.428960e-02</td>\n",
       "      <td>2.075050e-01</td>\n",
       "      <td>5.052512e-02</td>\n",
       "      <td>0.975862</td>\n",
       "      <td>1.000000</td>\n",
       "    </tr>\n",
       "  </tbody>\n",
       "</table>\n",
       "</div>"
      ],
      "text/plain": [
       "              X1            X2            X3            X4            X5  \\\n",
       "X1  1.000000e+00 -9.919015e-01 -2.037817e-01 -8.688234e-01  8.277473e-01   \n",
       "X2 -9.919015e-01  1.000000e+00  1.955016e-01  8.807195e-01 -8.581477e-01   \n",
       "X3 -2.037817e-01  1.955016e-01  1.000000e+00 -2.923165e-01  2.809757e-01   \n",
       "X4 -8.688234e-01  8.807195e-01 -2.923165e-01  1.000000e+00 -9.725122e-01   \n",
       "X5  8.277473e-01 -8.581477e-01  2.809757e-01 -9.725122e-01  1.000000e+00   \n",
       "X6  4.678592e-17 -3.459372e-17 -2.429499e-17 -5.830058e-17  4.492205e-17   \n",
       "X7 -2.960552e-15  3.636925e-15 -8.567455e-17 -1.759011e-15  1.489134e-17   \n",
       "X8 -7.107006e-16  2.438409e-15  2.067384e-16 -1.078071e-15 -2.920613e-17   \n",
       "Y1  6.222722e-01 -6.581202e-01  4.556712e-01 -8.618283e-01  8.894307e-01   \n",
       "Y2  6.343391e-01 -6.729989e-01  4.271170e-01 -8.625466e-01  8.957852e-01   \n",
       "\n",
       "              X6            X7            X8        Y1        Y2  \n",
       "X1  4.678592e-17 -2.960552e-15 -7.107006e-16  0.622272  0.634339  \n",
       "X2 -3.459372e-17  3.636925e-15  2.438409e-15 -0.658120 -0.672999  \n",
       "X3 -2.429499e-17 -8.567455e-17  2.067384e-16  0.455671  0.427117  \n",
       "X4 -5.830058e-17 -1.759011e-15 -1.078071e-15 -0.861828 -0.862547  \n",
       "X5  4.492205e-17  1.489134e-17 -2.920613e-17  0.889431  0.895785  \n",
       "X6  1.000000e+00 -9.406007e-16 -2.549352e-16 -0.002587  0.014290  \n",
       "X7 -9.406007e-16  1.000000e+00  2.129642e-01  0.269841  0.207505  \n",
       "X8 -2.549352e-16  2.129642e-01  1.000000e+00  0.087368  0.050525  \n",
       "Y1 -2.586534e-03  2.698410e-01  8.736759e-02  1.000000  0.975862  \n",
       "Y2  1.428960e-02  2.075050e-01  5.052512e-02  0.975862  1.000000  "
      ]
     },
     "execution_count": 6,
     "metadata": {},
     "output_type": "execute_result"
    }
   ],
   "source": [
    "print(\"The Correlation plot is :\\n\")\n",
    "data.corr()"
   ]
  },
  {
   "cell_type": "markdown",
   "id": "0de3b6b7-b5e9-4198-9f0d-eb6da824d378",
   "metadata": {},
   "source": [
    "##### Through this data we can observe that variables Y1 and Y2 have good correlation with variables X1, X2, X3, X4, X5, X7, "
   ]
  },
  {
   "cell_type": "code",
   "execution_count": 7,
   "id": "1767116c-1c13-4a7d-b4db-9d00fdd1e65b",
   "metadata": {},
   "outputs": [
    {
     "data": {
      "text/plain": [
       "<Axes: >"
      ]
     },
     "execution_count": 7,
     "metadata": {},
     "output_type": "execute_result"
    },
    {
     "data": {
      "image/png": "[encoded data removed]",
      "text/plain": [
       "<Figure size 640x480 with 2 Axes>"
      ]
     },
     "metadata": {},
     "output_type": "display_data"
    }
   ],
   "source": [
    "sns.heatmap(data.corr(),annot= True, fmt = \".2f\",cmap='coolwarm')"
   ]
  },
  {
   "cell_type": "code",
   "execution_count": 8,
   "id": "565dad81-03e0-44b1-a073-27b9228f5b01",
   "metadata": {},
   "outputs": [
    {
     "data": {
      "text/plain": [
       "<Axes: >"
      ]
     },
     "execution_count": 8,
     "metadata": {},
     "output_type": "execute_result"
    },
    {
     "data": {
      "image/png": "[encoded data removed]",
      "text/plain": [
       "<Figure size 640x480 with 1 Axes>"
      ]
     },
     "metadata": {},
     "output_type": "display_data"
    }
   ],
   "source": [
    "sns.boxplot(data)"
   ]
  },
  {
   "cell_type": "markdown",
   "id": "6196c930-3a4b-4825-9822-8db6c80fac29",
   "metadata": {},
   "source": [
    "##### As we can see, no outliers are detected from boxplots"
   ]
  },
  {
   "cell_type": "markdown",
   "id": "a2625327-4ce6-46f9-b685-a8c52f21090d",
   "metadata": {},
   "source": [
    "### (ii) Split the dataset into an 80:20 ratio for training and testing using the sklearn library."
   ]
  },
  {
   "cell_type": "code",
   "execution_count": 9,
   "id": "73b2be3e-a72f-4b0b-a0ee-0088160f78fa",
   "metadata": {},
   "outputs": [
    {
     "name": "stdout",
     "output_type": "stream",
     "text": [
      "Shape of x_train : (614, 6)\n",
      "Shape of y_train : (614, 1)\n",
      "Shape of x_test : (154, 6)\n",
      "Shape of y_test : (154, 1)\n"
     ]
    }
   ],
   "source": [
    "from sklearn.model_selection import train_test_split\n",
    "\n",
    "x_columns = ['X1', 'X2', 'X3', 'X4', 'X5', 'X7']\n",
    "y_columns = ['Y1']\n",
    "\n",
    "x = data[x_columns]\n",
    "y = data[y_columns]\n",
    "\n",
    "#x=x.iloc[:,:-1]\n",
    "#y=y.iloc[:,-1]\n",
    "\n",
    "x_train, x_test, y_train, y_test = train_test_split(x, y, test_size=0.2, random_state=42)\n",
    "\n",
    "print('Shape of x_train :', x_train.shape)\n",
    "print('Shape of y_train :', y_train.shape)\n",
    "print('Shape of x_test :', x_test.shape)\n",
    "print('Shape of y_test :', y_test.shape)"
   ]
  },
  {
   "cell_type": "code",
   "execution_count": 10,
   "id": "b882fbae-38b9-4572-8af3-eb0d480d958d",
   "metadata": {},
   "outputs": [],
   "source": [
    "#We need to standardize the data to ensure that larger scales do not effect values\n",
    "\n",
    "from sklearn.preprocessing import StandardScaler\n",
    "scaler = StandardScaler()\n",
    "x_train_scaled = scaler.fit_transform(x_train)\n",
    "x_test_scaled = scaler.transform(x_test)"
   ]
  },
  {
   "cell_type": "markdown",
   "id": "b3125565-5335-4750-859c-6129925c3eca",
   "metadata": {},
   "source": [
    "### (iii) Train a multivariate linear regression model from scratch using numpy, pandas, and matplotlib. Additionally, train a linear regression model using the sklearn library on the training dataset. Also train ridge and lasso regression model using the sklearn library on the training dataset\n",
    "\n",
    "### (iv) Evaluate the performance for each model on the test dataset using following metrics: R2 score, Mean Squared Error (MSE) and Root Mean Squared Error(RMSE). Compare the performance of the manual model and the sklearn model and plot the predicted vs actual values for both models."
   ]
  },
  {
   "cell_type": "markdown",
   "id": "373fde05-fb94-4453-87ec-ab8dce981ff1",
   "metadata": {},
   "source": [
    "### Multivariable Linear Regression from scratch"
   ]
  },
  {
   "cell_type": "markdown",
   "id": "89354695-ddd6-4ded-8c16-676746b22daf",
   "metadata": {},
   "source": [
    "##### Equation is Y1 = A1*X1 + A2*X2 + A3*X3 + A4*X4 + A5*X5  + A7*X7  "
   ]
  },
  {
   "cell_type": "code",
   "execution_count": 33,
   "id": "a5c34248-5193-4d4a-9735-70abbc973575",
   "metadata": {},
   "outputs": [
    {
     "name": "stdout",
     "output_type": "stream",
     "text": [
      "Coefficients [[ -5.87330406]\n",
      " [ 12.28922668]\n",
      " [ -6.24037382]\n",
      " [-19.59140433]\n",
      " [  7.18672711]\n",
      " [  2.76655453]]\n",
      "\n",
      "Intercept [22.15503257]\n"
     ]
    }
   ],
   "source": [
    "def linear_regression(x_train ,  y_train):\n",
    "    \n",
    "    # Add intercept column to X_train\n",
    "    x_train_b =  np.c_[np.ones(x_train.shape[0]), x_train]\n",
    "    \n",
    "     # Calculate coefficients using the Normal Equation\n",
    "    theta = np.linalg.inv(x_train_b.T.dot(x_train_b)).dot(x_train_b.T).dot(y_train)\n",
    "    return theta\n",
    "\n",
    "# Training the model (from scratch)\n",
    "theta_manual = linear_regression(x_train_scaled, y_train)\n",
    "print('Coefficients', theta_manual[1:])\n",
    "print('\\nIntercept', theta_manual[0])\n"
   ]
  },
  {
   "cell_type": "code",
   "execution_count": 34,
   "id": "2a2d1f4b-51fa-4dd7-8ceb-85c5a86f8498",
   "metadata": {
    "scrolled": true
   },
   "outputs": [
    {
     "name": "stdout",
     "output_type": "stream",
     "text": [
      "[[19.40236458]\n",
      " [14.30201901]\n",
      " [31.36290968]\n",
      " [35.95791498]\n",
      " [15.30424235]\n",
      " [28.2063252 ]\n",
      " [25.17111191]\n",
      " [28.2670108 ]\n",
      " [18.40014124]\n",
      " [27.59442346]\n",
      " [18.40014124]\n",
      " [34.94872884]\n",
      " [27.59442346]\n",
      " [ 7.08431276]\n",
      " [18.40014124]\n",
      " [38.04462773]\n",
      " [38.04462773]\n",
      " [10.18021165]\n",
      " [14.83590255]\n",
      " [34.94872884]\n",
      " [34.39812297]\n",
      " [35.95791498]\n",
      " [11.20612012]\n",
      " [29.76611721]\n",
      " [12.20834346]\n",
      " [29.76611721]\n",
      " [33.78622123]\n",
      " [34.39812297]\n",
      " [15.30424235]\n",
      " [16.30646569]\n",
      " [ 7.08431276]\n",
      " [10.18021165]\n",
      " [15.30424235]\n",
      " [31.30222409]\n",
      " [29.76611721]\n",
      " [28.2670108 ]\n",
      " [31.36290968]\n",
      " [29.76611721]\n",
      " [33.78622123]\n",
      " [ 8.64410477]\n",
      " [28.2670108 ]\n",
      " [10.18021165]\n",
      " [ 6.58017218]\n",
      " [32.28076229]\n",
      " [ 7.58239552]\n",
      " [ 6.58017218]\n",
      " [ 9.14218753]\n",
      " [ 8.64410477]\n",
      " [29.1848634 ]\n",
      " [30.69032235]\n",
      " [33.78622123]\n",
      " [14.30201901]\n",
      " [14.30201901]\n",
      " [32.8620161 ]\n",
      " [11.74000366]\n",
      " [12.20834346]\n",
      " [10.18021165]\n",
      " [31.30222409]\n",
      " [41.14052662]\n",
      " [38.04462773]\n",
      " [15.83812589]\n",
      " [19.40236458]\n",
      " [14.30201901]\n",
      " [28.2063252 ]\n",
      " [28.2670108 ]\n",
      " [29.76611721]\n",
      " [29.76611721]\n",
      " [11.20612012]\n",
      " [13.2105668 ]\n",
      " [10.18021165]\n",
      " [27.59442346]\n",
      " [31.36290968]\n",
      " [12.742227  ]\n",
      " [28.2063252 ]\n",
      " [32.28076229]\n",
      " [10.18021165]\n",
      " [34.39812297]\n",
      " [31.30222409]\n",
      " [31.36290968]\n",
      " [24.02503193]\n",
      " [25.17111191]\n",
      " [32.8620161 ]\n",
      " [ 8.64410477]\n",
      " [16.30646569]\n",
      " [11.20612012]\n",
      " [14.83590255]\n",
      " [26.08896452]\n",
      " [38.04462773]\n",
      " [29.76611721]\n",
      " [15.30424235]\n",
      " [12.20834346]\n",
      " [31.30222409]\n",
      " [ 9.64632811]\n",
      " [14.30201901]\n",
      " [38.04462773]\n",
      " [14.30201901]\n",
      " [26.08896452]\n",
      " [29.1848634 ]\n",
      " [ 8.64410477]\n",
      " [ 8.64410477]\n",
      " [41.14052662]\n",
      " [28.2670108 ]\n",
      " [ 7.08431276]\n",
      " [27.59442346]\n",
      " [29.1848634 ]\n",
      " [19.40236458]\n",
      " [28.2063252 ]\n",
      " [19.40236458]\n",
      " [15.83812589]\n",
      " [10.18021165]\n",
      " [34.94872884]\n",
      " [32.28076229]\n",
      " [25.17111191]\n",
      " [17.3979179 ]\n",
      " [10.18021165]\n",
      " [14.83590255]\n",
      " [ 9.64632811]\n",
      " [ 7.08431276]\n",
      " [12.742227  ]\n",
      " [25.53049087]\n",
      " [27.59442346]\n",
      " [ 9.64632811]\n",
      " [32.88479625]\n",
      " [16.30646569]\n",
      " [27.59442346]\n",
      " [18.40014124]\n",
      " [15.83812589]\n",
      " [29.76611721]\n",
      " [25.17111191]\n",
      " [41.14052662]\n",
      " [23.10717932]\n",
      " [34.94872884]\n",
      " [16.30646569]\n",
      " [13.27611054]\n",
      " [14.83590255]\n",
      " [18.40014124]\n",
      " [32.28076229]\n",
      " [35.95791498]\n",
      " [13.27611054]\n",
      " [18.40014124]\n",
      " [ 8.64410477]\n",
      " [41.14052662]\n",
      " [28.2670108 ]\n",
      " [30.69032235]\n",
      " [33.78622123]\n",
      " [11.20612012]\n",
      " [ 7.08431276]\n",
      " [27.59442346]\n",
      " [33.78622123]\n",
      " [32.8620161 ]\n",
      " [33.78622123]\n",
      " [29.1848634 ]\n",
      " [29.1848634 ]\n",
      " [11.74000366]]\n"
     ]
    },
    {
     "data": {
      "text/plain": [
       "(154, 1)"
      ]
     },
     "execution_count": 34,
     "metadata": {},
     "output_type": "execute_result"
    }
   ],
   "source": [
    "# this is the predicted values\n",
    "y_pred_manual = np.c_[np.ones(x_test_scaled.shape[0]), x_test_scaled].dot(theta_manual)\n",
    "print(y_pred_manual)\n",
    "y_pred_manual.shape\n"
   ]
  },
  {
   "cell_type": "code",
   "execution_count": 35,
   "id": "ac1d33a8-e2ba-4f9a-9983-8084297cbfd1",
   "metadata": {},
   "outputs": [
    {
     "name": "stdout",
     "output_type": "stream",
     "text": [
      "For Manual Linear Regression\n",
      "\n",
      "Mean Squared Error = 9.560658811669901\n",
      "Root Mean Squared Error = 3.092031502373464\n",
      "R-squared Value = 0.905089881791241\n"
     ]
    }
   ],
   "source": [
    "#y_test=y_test.to_numpy()\n",
    "\n",
    "res = np.sum((y_pred_manual - y_test)**2)\n",
    "tot = np.sum((y_pred_manual - y_test.mean())**2)\n",
    "R_sq_manual = 1 - (res/tot)\n",
    "mse_manual = np.mean((y_pred_manual - y_test)**2)\n",
    "\n",
    "print(\"For Manual Linear Regression\\n\")\n",
    "\n",
    "print('Mean Squared Error =', mse_manual)\n",
    "print('Root Mean Squared Error =', mse_manual**0.5)\n",
    "print('R-squared Value =', R_sq_manual)\n"
   ]
  },
  {
   "cell_type": "markdown",
   "id": "bd81f65b-e278-4e91-b038-fcd3251ea1bf",
   "metadata": {},
   "source": [
    "### Linear regression using sklearn"
   ]
  },
  {
   "cell_type": "code",
   "execution_count": 22,
   "id": "3cb33611-9d9d-4515-a4e7-40dca82056c7",
   "metadata": {},
   "outputs": [],
   "source": [
    "from sklearn.linear_model import LinearRegression\n",
    "from sklearn.metrics import mean_squared_error, r2_score"
   ]
  },
  {
   "cell_type": "code",
   "execution_count": 23,
   "id": "421e5990-8060-4de1-a1a7-b05e1e45f870",
   "metadata": {},
   "outputs": [],
   "source": [
    "lr = LinearRegression()\n",
    "lr.fit(x_train_scaled, y_train)\n",
    "LinearRegression()\n",
    "y_pred_sklearn = lr.predict(x_test_scaled)"
   ]
  },
  {
   "cell_type": "code",
   "execution_count": 24,
   "id": "cee71179-8bbe-4899-ab23-b2c1613a9b62",
   "metadata": {},
   "outputs": [
    {
     "data": {
      "text/plain": [
       "array([[-6.55559442, -3.63863751,  0.79008519, -3.94821951,  7.18672711,\n",
       "         2.76655453]])"
      ]
     },
     "execution_count": 24,
     "metadata": {},
     "output_type": "execute_result"
    }
   ],
   "source": [
    "lr.coef_"
   ]
  },
  {
   "cell_type": "code",
   "execution_count": 25,
   "id": "68976e79-da65-47dd-a285-8c625424ae64",
   "metadata": {},
   "outputs": [
    {
     "data": {
      "text/plain": [
       "array([22.15503257])"
      ]
     },
     "execution_count": 25,
     "metadata": {},
     "output_type": "execute_result"
    }
   ],
   "source": [
    "lr.intercept_"
   ]
  },
  {
   "cell_type": "code",
   "execution_count": 26,
   "id": "abd51b20-a968-4e23-b1bc-007db548dfbb",
   "metadata": {},
   "outputs": [
    {
     "name": "stdout",
     "output_type": "stream",
     "text": [
      "For Linear Regression with sklearn\n",
      "\n",
      "Mean Squared Error: 9.217858589801482\n",
      "Root Mean Squared Error 3.036092651715603\n",
      "R-Squared Value: 0.9115636425685933\n"
     ]
    }
   ],
   "source": [
    "mse_sklearn = mean_squared_error(y_test, y_pred_sklearn)\n",
    "r2_sklearn = r2_score(y_test, y_pred_sklearn)\n",
    "\n",
    "print(\"For Linear Regression with sklearn\\n\")\n",
    "print(\"Mean Squared Error:\", mse_sklearn)\n",
    "print(\"Root Mean Squared Error\", mse_sklearn**0.5)\n",
    "print(\"R-Squared Value:\", r2_sklearn)"
   ]
  },
  {
   "cell_type": "markdown",
   "id": "a7939bbe-83ad-487e-b120-e8277cd8845f",
   "metadata": {},
   "source": [
    "### Ridge Regression"
   ]
  },
  {
   "cell_type": "code",
   "execution_count": 27,
   "id": "ae04a0a1-4c91-481e-a1b0-21873c53a70b",
   "metadata": {},
   "outputs": [
    {
     "name": "stdout",
     "output_type": "stream",
     "text": [
      "Model Coefficients: [-6.26808831 -3.44349491  0.83731695 -3.77965752  7.26472515  2.76662195]\n",
      "Model intercept:\n",
      " [22.15503257]\n",
      "\n",
      "For Ridge Linear Regression\n",
      "\n",
      "Mean Squared Error = 9.228671133821612\n",
      "Root Mean Squared Error = 3.0378727975051247\n",
      "R-squared Value = 0.9114599067607165\n"
     ]
    }
   ],
   "source": [
    "from sklearn.linear_model import Ridge\n",
    "ridge = Ridge(alpha = 0.2)\n",
    "\n",
    "#Training\n",
    "ridge.fit(x_train_scaled, y_train)\n",
    "\n",
    "#Predicting\n",
    "y_pred_ridge = ridge.predict(x_test_scaled)\n",
    "\n",
    "#Finding the goodness of fit\n",
    "mse_ridge = mean_squared_error(y_test, y_pred_ridge)\n",
    "R_sq_ridge = r2_score(y_test, y_pred_ridge)\n",
    "print('Model Coefficients:', ridge.coef_)\n",
    "print('Model intercept:\\n', ridge.intercept_)\n",
    "\n",
    "print(\"\\nFor Ridge Linear Regression\\n\")\n",
    "print('Mean Squared Error =', mse_ridge)\n",
    "print('Root Mean Squared Error =', mse_ridge**0.5)\n",
    "print('R-squared Value =', R_sq_ridge)\n"
   ]
  },
  {
   "cell_type": "markdown",
   "id": "4efb5cba-6224-47c6-97f5-2647b8f66dae",
   "metadata": {},
   "source": [
    "### Lasso Regression"
   ]
  },
  {
   "cell_type": "code",
   "execution_count": 28,
   "id": "71e81895-4f05-48ca-994e-57e77b31f5ec",
   "metadata": {},
   "outputs": [
    {
     "name": "stdout",
     "output_type": "stream",
     "text": [
      "Model Coefficients: [-0.         -0.          2.07853793 -0.          8.16717027  2.58557766]\n",
      "Model intercept:\n",
      " [22.15503257]\n",
      "\n",
      "For Lasso Linear Regression\n",
      "\n",
      "Mean Squared Error = 10.048826044335394\n",
      "Root Mean Squared Error = 3.169988335047212\n",
      "R-squared Value = 0.9035913207861423\n"
     ]
    }
   ],
   "source": [
    "from sklearn.linear_model import Lasso\n",
    "lasso = Lasso(alpha = 0.2)\n",
    "\n",
    "#Training\n",
    "lasso.fit(x_train_scaled, y_train)\n",
    "\n",
    "#Predicting\n",
    "y_pred_lasso = lasso.predict(x_test_scaled)\n",
    "\n",
    "#Finding the goodness of fit\n",
    "mse_lasso = mean_squared_error(y_test, y_pred_lasso)\n",
    "R_sq_lasso = r2_score(y_test, y_pred_lasso)\n",
    "print('Model Coefficients:', lasso.coef_)\n",
    "print('Model intercept:\\n', lasso.intercept_)\n",
    "\n",
    "print(\"\\nFor Lasso Linear Regression\")\n",
    "print('\\nMean Squared Error =', mse_lasso)\n",
    "print('Root Mean Squared Error =', mse_lasso**0.5)\n",
    "print('R-squared Value =', R_sq_lasso)"
   ]
  },
  {
   "cell_type": "code",
   "execution_count": 29,
   "id": "7ef2cc0a-a4f1-4ab2-9fb5-f69cfa862d65",
   "metadata": {},
   "outputs": [
    {
     "data": {
      "text/plain": [
       "[<matplotlib.lines.Line2D at 0x2adafd7f110>]"
      ]
     },
     "execution_count": 29,
     "metadata": {},
     "output_type": "execute_result"
    },
    {
     "data": {
      "image/png": "[encoded data removed]",
      "text/plain": [
       "<Figure size 1300x500 with 2 Axes>"
      ]
     },
     "metadata": {},
     "output_type": "display_data"
    }
   ],
   "source": [
    "plt.figure(figsize=(13,5))\n",
    "\n",
    "plt.subplot(1,2,1)\n",
    "plt.scatter(y_test,y_pred_manual,alpha=0.5,c='blue')\n",
    "plt.plot([y_test.min(), y_test.max()], [y_test.min(), y_test.max()], linestyle='--', lw=0.9)\n",
    "plt.title(\"Manual Regression\")\n",
    "plt.legend()\n",
    "plt.xlabel('Actual Values')\n",
    "plt.ylabel('Predicted Values')\n",
    "\n",
    "plt.subplot(1,2,2)\n",
    "plt.scatter(y_test,y_pred_sklearn,alpha=0.5,c='green')\n",
    "plt.title(\"Sklearn Regression\")\n",
    "plt.legend()\n",
    "plt.xlabel('Actual Values')\n",
    "plt.ylabel('Predicted Values')\n",
    "plt.plot([y_test.min(), y_test.max()], [y_test.min(), y_test.max()], linestyle='--', lw=0.9)"
   ]
  },
  {
   "cell_type": "markdown",
   "id": "d0374d7c-98e2-4553-9701-bfbed85936b5",
   "metadata": {},
   "source": [
    "### V) Propose energy efficiency improvement suggestions based on the insights from the model results, focusing on building design elements that most significantly impact heating load."
   ]
  },
  {
   "cell_type": "markdown",
   "id": "947c2d86-58a6-4e84-8efb-726e9e6ee5bc",
   "metadata": {},
   "source": [
    "##### From the prediction of the models we find out the different feature. Putting the values in the Equation Y1 = A1*X1 + A2*X2 + A3*X3 + A4*X4 + A5*X5  + A7*X7 we can find out the relation between Heating Load (Y1) and the other fetures. The relation between the Heating load and the other factors depends on the magnitute of coefficients and their signs (positive or negative).\n",
    "\n",
    "##### By observing the coefficients we find out that the heat load has a High Negative coefficient for Relative Compactness (X1).  Thus by increasing relative compactness we can greatly reduce heat load. \n",
    "\n",
    "##### We can also observe that Overall Heigh (X5) has a High Positive Coefficient. Therefore we can greatly decrease the Heat Load by decreasing the height.\n",
    "\n",
    "##### Factors like Surface Area (X2) and Roof Area (X4) also have a Negative Coefficient indicating that by increasing them we can decrease Heating Load\n",
    "\n",
    "##### Glazing Area (X7) and Wall Area (X3) have a Positive Coefficient indicating that by decreasing them we can decrease Heating Load. The coefficient for Wall Area (X3) is very small, thus it will have a very minute effect on Heating Load"
   ]
  }
 ],
 "metadata": {
  "kernelspec": {
   "display_name": "Python 3 (ipykernel)",
   "language": "python",
   "name": "python3"
  },
  "language_info": {
   "codemirror_mode": {
    "name": "ipython",
    "version": 3
   },
   "file_extension": ".py",
   "mimetype": "text/x-python",
   "name": "python",
   "nbconvert_exporter": "python",
   "pygments_lexer": "ipython3",
   "version": "3.13.1"
  }
 },
 "nbformat": 4,
 "nbformat_minor": 5
}
